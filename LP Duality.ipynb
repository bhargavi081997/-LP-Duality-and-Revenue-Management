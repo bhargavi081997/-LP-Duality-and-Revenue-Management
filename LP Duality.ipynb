{
 "cells": [
  {
   "cell_type": "markdown",
   "id": "54f68164",
   "metadata": {},
   "source": [
    "## 1 Semiconductor Manufacturing"
   ]
  },
  {
   "cell_type": "markdown",
   "id": "2eedde43",
   "metadata": {},
   "source": [
    "### Part 1: LP Formulation"
   ]
  },
  {
   "cell_type": "code",
   "execution_count": 1,
   "id": "492e48f2",
   "metadata": {},
   "outputs": [],
   "source": [
    "from gurobipy import *"
   ]
  },
  {
   "cell_type": "markdown",
   "id": "b58785eb",
   "metadata": {},
   "source": [
    "#### Part 1a"
   ]
  },
  {
   "cell_type": "code",
   "execution_count": 2,
   "id": "1e5a4f18",
   "metadata": {},
   "outputs": [
    {
     "name": "stdout",
     "output_type": "stream",
     "text": [
      "Set parameter Username\n",
      "Academic license - for non-commercial use only - expires 2022-06-05\n"
     ]
    }
   ],
   "source": [
    "# create the model\n",
    "model_1 = Model()\n",
    "\n",
    "# add variables\n",
    "x_1 = model_1.addVar()\n",
    "x_2 = model_1.addVar()\n",
    "x_3 = model_1.addVar()\n",
    "\n",
    "# constraints (nonnegativity constraints automatically added by Gurobi)\n",
    "ge_constraint = model_1.addConstr(14*x_1 + 20*x_2 + 40*x_3 <= 300)\n",
    "si_constraint = model_1.addConstr(30*x_1 + 20*x_2 + 15*x_3 <= 200)\n",
    "time_constraint = model_1.addConstr(20*x_1 + 30*x_2 + 50*x_3 <= 1080)\n",
    "\n",
    "# objective function\n",
    "model_1.setObjective(500*x_1 + 800*x_2 + 1000*x_3, GRB.MAXIMIZE)"
   ]
  },
  {
   "cell_type": "markdown",
   "id": "f81b8968",
   "metadata": {},
   "source": [
    "Here x_1, x_2, x_3 are the corresponding variables for chip 1, 2 and 3 respectively.\n",
    "<br>**Decision variables:** x_1, x_2, x_3\n",
    "<br>**Objective function:** 500*x_1 + 800*x_2 + 1000*x_3\n",
    "<br><br>Constraints:\n",
    "<br>ge_constraint = 14*x_1 + 20*x_2 + 40*x_3 <= 300\n",
    "<br>si_constraint = 30*x_1 + 20*x_2 + 15*x_3 <= 500\n",
    "<br>time_constraint = 20*x_1 + 30*x_2 + 50*x_3 <= 1080"
   ]
  },
  {
   "cell_type": "markdown",
   "id": "408ee5ac",
   "metadata": {},
   "source": [
    "#### Part 1b"
   ]
  },
  {
   "cell_type": "code",
   "execution_count": 3,
   "id": "24e9e6c6",
   "metadata": {},
   "outputs": [],
   "source": [
    "# update model\n",
    "model_1.update()"
   ]
  },
  {
   "cell_type": "code",
   "execution_count": 4,
   "id": "589117b8",
   "metadata": {},
   "outputs": [
    {
     "name": "stdout",
     "output_type": "stream",
     "text": [
      "Gurobi Optimizer version 9.5.0 build v9.5.0rc5 (win64)\n",
      "Thread count: 4 physical cores, 8 logical processors, using up to 8 threads\n",
      "Optimize a model with 3 rows, 3 columns and 9 nonzeros\n",
      "Model fingerprint: 0xc6454fc5\n",
      "Coefficient statistics:\n",
      "  Matrix range     [1e+01, 5e+01]\n",
      "  Objective range  [5e+02, 1e+03]\n",
      "  Bounds range     [0e+00, 0e+00]\n",
      "  RHS range        [2e+02, 1e+03]\n",
      "Presolve removed 1 rows and 0 columns\n",
      "Presolve time: 0.02s\n",
      "Presolved: 2 rows, 3 columns, 6 nonzeros\n",
      "\n",
      "Iteration    Objective       Primal Inf.    Dual Inf.      Time\n",
      "       0    1.2000000e+04   8.114000e+00   0.000000e+00      0s\n",
      "       2    9.6000000e+03   0.000000e+00   0.000000e+00      0s\n",
      "\n",
      "Solved in 2 iterations and 0.02 seconds (0.00 work units)\n",
      "Optimal objective  9.600000000e+03\n"
     ]
    }
   ],
   "source": [
    "# solve the model\n",
    "model_1.optimize()"
   ]
  },
  {
   "cell_type": "code",
   "execution_count": 5,
   "id": "4466a454",
   "metadata": {},
   "outputs": [
    {
     "name": "stdout",
     "output_type": "stream",
     "text": [
      "Optimal objective:  9600.0\n"
     ]
    }
   ],
   "source": [
    "# Extract the optimal objective value\n",
    "print(\"Optimal objective: \", model_1.objval)"
   ]
  },
  {
   "cell_type": "markdown",
   "id": "c25adf24",
   "metadata": {},
   "source": [
    "#### Part 1c"
   ]
  },
  {
   "cell_type": "code",
   "execution_count": 6,
   "id": "24ff5fb5",
   "metadata": {},
   "outputs": [
    {
     "name": "stdout",
     "output_type": "stream",
     "text": [
      "Chip 1 optimal count:  0.0\n",
      "Chip 2 optimal count:  7.0\n",
      "Chip 3 optimal count:  4.0\n"
     ]
    }
   ],
   "source": [
    "# Optimal values of the decision variables\n",
    "\n",
    "print(\"Chip 1 optimal count: \", x_1.x)\n",
    "print(\"Chip 2 optimal count: \", x_2.x)\n",
    "print(\"Chip 3 optimal count: \", x_3.x)"
   ]
  },
  {
   "cell_type": "markdown",
   "id": "f61139d9",
   "metadata": {},
   "source": [
    "### Part 2: Dual Formulation"
   ]
  },
  {
   "cell_type": "markdown",
   "id": "93371ddd",
   "metadata": {},
   "source": [
    "#### Part 2a"
   ]
  },
  {
   "cell_type": "code",
   "execution_count": 7,
   "id": "256f2641",
   "metadata": {},
   "outputs": [],
   "source": [
    "# create the model\n",
    "model_1_dual = Model()\n",
    "\n",
    "# add variables\n",
    "p_g = model_1_dual.addVar()\n",
    "p_s = model_1_dual.addVar()\n",
    "p_t = model_1_dual.addVar()\n",
    "\n",
    "# constraints (nonnegativity constraints added automatically by Gurobi)\n",
    "model_1_dual.addConstr(14*p_g + 30*p_s + 20*p_t >= 500)\n",
    "model_1_dual.addConstr(20*p_g + 20*p_s + 30*p_t >= 800)\n",
    "model_1_dual.addConstr(40*p_g + 15*p_s + 50*p_t >= 1000)\n",
    "\n",
    "# objective function\n",
    "model_1_dual.setObjective(300*p_g + 200*p_s + 1000*p_t, GRB.MINIMIZE)"
   ]
  },
  {
   "cell_type": "markdown",
   "id": "d1e7ca4f",
   "metadata": {},
   "source": [
    "Here p_g, p_s, p_t are the prices of germanium transistors, silicon transistors and time\n",
    "<br>**Decision variables:** p_g, p_s, p_t\n",
    "<br>**Objective Function:**\n",
    "<br>300*p_g + 500*p_s + 1000*p_t\n",
    "<br><br>Constraints:\n",
    "<br>14*p_g + 30*p_s + 20*p_t >= 500\n",
    "<br>20*p_g + 20*p_s + 30*p_t >= 800\n",
    "<br>40*p_g + 15*p_s + 50*p_t >= 1000"
   ]
  },
  {
   "cell_type": "markdown",
   "id": "a429316f",
   "metadata": {},
   "source": [
    "#### Part 2b"
   ]
  },
  {
   "cell_type": "code",
   "execution_count": 8,
   "id": "c15140bf",
   "metadata": {},
   "outputs": [],
   "source": [
    "# update model\n",
    "model_1_dual.update()"
   ]
  },
  {
   "cell_type": "code",
   "execution_count": 9,
   "id": "6e9952d7",
   "metadata": {
    "scrolled": false
   },
   "outputs": [
    {
     "name": "stdout",
     "output_type": "stream",
     "text": [
      "Gurobi Optimizer version 9.5.0 build v9.5.0rc5 (win64)\n",
      "Thread count: 4 physical cores, 8 logical processors, using up to 8 threads\n",
      "Optimize a model with 3 rows, 3 columns and 9 nonzeros\n",
      "Model fingerprint: 0x0c6c5ed1\n",
      "Coefficient statistics:\n",
      "  Matrix range     [1e+01, 5e+01]\n",
      "  Objective range  [2e+02, 1e+03]\n",
      "  Bounds range     [0e+00, 0e+00]\n",
      "  RHS range        [5e+02, 1e+03]\n",
      "Presolve removed 0 rows and 1 columns\n",
      "Presolve time: 0.01s\n",
      "Presolved: 3 rows, 2 columns, 6 nonzeros\n",
      "\n",
      "Iteration    Objective       Primal Inf.    Dual Inf.      Time\n",
      "       0    0.0000000e+00   2.875000e+02   0.000000e+00      0s\n",
      "       2    9.6000000e+03   0.000000e+00   0.000000e+00      0s\n",
      "\n",
      "Solved in 2 iterations and 0.02 seconds (0.00 work units)\n",
      "Optimal objective  9.600000000e+03\n"
     ]
    }
   ],
   "source": [
    "# solve the model\n",
    "model_1_dual.optimize()"
   ]
  },
  {
   "cell_type": "code",
   "execution_count": 36,
   "id": "8b566977",
   "metadata": {},
   "outputs": [
    {
     "name": "stdout",
     "output_type": "stream",
     "text": [
      "Optimal objective:  9600.0\n"
     ]
    }
   ],
   "source": [
    "# Extract the optimal objective value\n",
    "print(\"Optimal objective: \", model_1_dual.objval)"
   ]
  },
  {
   "cell_type": "markdown",
   "id": "4e6bcf86",
   "metadata": {},
   "source": [
    "#### Part 2c"
   ]
  },
  {
   "cell_type": "code",
   "execution_count": 11,
   "id": "b658d78d",
   "metadata": {},
   "outputs": [
    {
     "name": "stdout",
     "output_type": "stream",
     "text": [
      "Price of one unit Ge Transistors:  16.0\n",
      "Price of one unit Si Transistors:  24.0\n",
      "Price of one unit manufacturing time:  0.0\n"
     ]
    }
   ],
   "source": [
    "# Optimal values of the decision variables\n",
    "\n",
    "print(\"Price of one unit Ge Transistors: \", p_g.x)\n",
    "print(\"Price of one unit Si Transistors: \", p_s.x)\n",
    "print(\"Price of one unit manufacturing time: \", p_t.x)\n"
   ]
  },
  {
   "cell_type": "markdown",
   "id": "cfd482db",
   "metadata": {},
   "source": [
    "#### Part 2d"
   ]
  },
  {
   "cell_type": "code",
   "execution_count": 12,
   "id": "15baf9e1",
   "metadata": {
    "scrolled": false
   },
   "outputs": [
    {
     "name": "stdout",
     "output_type": "stream",
     "text": [
      "Price of one unit of Ge Transistors:  16.0\n",
      "Price of one unit of Si Transistors:  24.0\n",
      "Price of one unit of manufacturing time:  0.0\n"
     ]
    }
   ],
   "source": [
    "# To verify that the optimal values of the dual are the same as the shadow prices of the primal\n",
    "print(\"Price of one unit of Ge Transistors: \", ge_constraint.pi)\n",
    "print(\"Price of one unit of Si Transistors: \", si_constraint.pi)\n",
    "print(\"Price of one unit of manufacturing time: \", time_constraint.pi)"
   ]
  },
  {
   "cell_type": "markdown",
   "id": "4701ca25",
   "metadata": {},
   "source": [
    "Thus, they are the same as the shadow prices of the constraints in the formulation implemented in Part 1"
   ]
  },
  {
   "cell_type": "markdown",
   "id": "7b1a9076",
   "metadata": {},
   "source": [
    "### Part 3: Shadow Prices / Marginal Analysis"
   ]
  },
  {
   "cell_type": "markdown",
   "id": "11bcc69e",
   "metadata": {},
   "source": [
    "#### Part 3a"
   ]
  },
  {
   "cell_type": "markdown",
   "id": "7a61c031",
   "metadata": {},
   "source": [
    "This will result in an increase in the revenue since the increase in time would have a positive effect on revenue from the above LP model"
   ]
  },
  {
   "cell_type": "markdown",
   "id": "ab7c016f",
   "metadata": {},
   "source": [
    "#### Part 3b"
   ]
  },
  {
   "cell_type": "markdown",
   "id": "a3176907",
   "metadata": {},
   "source": [
    "Shadow price gives the marginal change in the Objective for a change in the right hand side of the constraint.\n",
    "For a 10 billion increase, objective value increases by 16*10 = 160\n",
    "<br>Thus, based on the shadow prices/optimal dual variables, predicted revenue will change from your answer in Part 1-b by $160"
   ]
  },
  {
   "cell_type": "markdown",
   "id": "959e033c",
   "metadata": {},
   "source": [
    "#### Part 3c"
   ]
  },
  {
   "cell_type": "code",
   "execution_count": 13,
   "id": "22e38f75",
   "metadata": {
    "scrolled": true
   },
   "outputs": [
    {
     "name": "stdout",
     "output_type": "stream",
     "text": [
      "Gurobi Optimizer version 9.5.0 build v9.5.0rc5 (win64)\n",
      "Thread count: 4 physical cores, 8 logical processors, using up to 8 threads\n",
      "Optimize a model with 3 rows, 3 columns and 9 nonzeros\n",
      "Coefficient statistics:\n",
      "  Matrix range     [1e+01, 5e+01]\n",
      "  Objective range  [5e+02, 1e+03]\n",
      "  Bounds range     [0e+00, 0e+00]\n",
      "  RHS range        [2e+02, 1e+03]\n",
      "Iteration    Objective       Primal Inf.    Dual Inf.      Time\n",
      "       0    9.7600000e+03   0.000000e+00   0.000000e+00      0s\n",
      "\n",
      "Solved in 0 iterations and 0.01 seconds (0.00 work units)\n",
      "Optimal objective  9.760000000e+03\n",
      "9760.0\n"
     ]
    }
   ],
   "source": [
    "# updating the ge_constraint\n",
    "ge_constraint.rhs = 310\n",
    "# updating and solving the model\n",
    "model_1.update()\n",
    "model_1.optimize()\n",
    "\n",
    "# display new optimal value\n",
    "print(model_1.objVal)"
   ]
  },
  {
   "cell_type": "markdown",
   "id": "3a94f818",
   "metadata": {},
   "source": [
    "Thus, there is a predicted $160 increase in optimal revenue resulting from an increase in the amount of available Ge transistors of 10 billion"
   ]
  },
  {
   "cell_type": "markdown",
   "id": "43aae103",
   "metadata": {},
   "source": [
    "#### Part 3d"
   ]
  },
  {
   "cell_type": "markdown",
   "id": "d46b39c4",
   "metadata": {},
   "source": [
    "Shadow price is only for a marginal change and this increase is too high.\n",
    "<br>Thus, based on the shadow prices/optimal dual variables, the revenucan't be predicted accurately."
   ]
  },
  {
   "cell_type": "markdown",
   "id": "8d80bd39",
   "metadata": {},
   "source": [
    "#### Part 3e"
   ]
  },
  {
   "cell_type": "code",
   "execution_count": 14,
   "id": "2483d2f7",
   "metadata": {
    "scrolled": true
   },
   "outputs": [
    {
     "name": "stdout",
     "output_type": "stream",
     "text": [
      "Gurobi Optimizer version 9.5.0 build v9.5.0rc5 (win64)\n",
      "Thread count: 4 physical cores, 8 logical processors, using up to 8 threads\n",
      "Optimize a model with 3 rows, 3 columns and 9 nonzeros\n",
      "Coefficient statistics:\n",
      "  Matrix range     [1e+01, 5e+01]\n",
      "  Objective range  [5e+02, 1e+03]\n",
      "  Bounds range     [0e+00, 0e+00]\n",
      "  RHS range        [2e+02, 1e+03]\n",
      "Iteration    Objective       Primal Inf.    Dual Inf.      Time\n",
      "       0    1.4400000e+04   8.000000e+00   0.000000e+00      0s\n",
      "       1    1.3333333e+04   0.000000e+00   0.000000e+00      0s\n",
      "\n",
      "Solved in 1 iterations and 0.02 seconds (0.00 work units)\n",
      "Optimal objective  1.333333333e+04\n",
      "13333.333333333334\n"
     ]
    }
   ],
   "source": [
    "# updating the ge_constraint\n",
    "ge_constraint.rhs = 600\n",
    "# updating and solving the model\n",
    "model_1.update()\n",
    "model_1.optimize()\n",
    "\n",
    "# display new optimal value\n",
    "print(model_1.objVal)"
   ]
  },
  {
   "cell_type": "markdown",
   "id": "8377ead9",
   "metadata": {},
   "source": [
    "Thus, the new optimal revenue resulting from an increase in the amount of available Ge transistors of 300 billion is $13,333.34 "
   ]
  },
  {
   "cell_type": "markdown",
   "id": "c8ce7b1c",
   "metadata": {},
   "source": [
    "#### Part 3f"
   ]
  },
  {
   "cell_type": "markdown",
   "id": "17df77ae",
   "metadata": {},
   "source": [
    "Based on shadow prices, if the amount of Ge transistors by 10 billion and the amount of Si transistors\n",
    "by 20 billion, the prediction is that objective will change by 16x10+24x20=640"
   ]
  },
  {
   "cell_type": "markdown",
   "id": "26ba191d",
   "metadata": {},
   "source": [
    "#### Part 3g"
   ]
  },
  {
   "cell_type": "code",
   "execution_count": 15,
   "id": "2337eb33",
   "metadata": {},
   "outputs": [
    {
     "name": "stdout",
     "output_type": "stream",
     "text": [
      "Gurobi Optimizer version 9.5.0 build v9.5.0rc5 (win64)\n",
      "Thread count: 4 physical cores, 8 logical processors, using up to 8 threads\n",
      "Optimize a model with 3 rows, 3 columns and 9 nonzeros\n",
      "Coefficient statistics:\n",
      "  Matrix range     [1e+01, 5e+01]\n",
      "  Objective range  [5e+02, 1e+03]\n",
      "  Bounds range     [0e+00, 0e+00]\n",
      "  RHS range        [2e+02, 1e+03]\n",
      "Iteration    Objective       Primal Inf.    Dual Inf.      Time\n",
      "       0    1.4666667e+04   3.458333e+01   0.000000e+00      0s\n",
      "       1    1.0240000e+04   0.000000e+00   0.000000e+00      0s\n",
      "\n",
      "Solved in 1 iterations and 0.01 seconds (0.00 work units)\n",
      "Optimal objective  1.024000000e+04\n",
      "10240.0\n"
     ]
    }
   ],
   "source": [
    "# reformulating the primal model\n",
    "ge_constraint.rhs = 310\n",
    "si_constraint.rhs = 220\n",
    "# updating and solving the model\n",
    "model_1.update()\n",
    "model_1.optimize()\n",
    "\n",
    "# display new optimal value\n",
    "print(model_1.objVal)"
   ]
  },
  {
   "cell_type": "markdown",
   "id": "264ad03e",
   "metadata": {},
   "source": [
    "Thus, there is a predicted optimal revenue of $640 resulting from an increase in the amount of available Ge transistors of 10 billion and an increase in the amount of the available Si transistors of 20 billion"
   ]
  },
  {
   "cell_type": "markdown",
   "id": "06723831",
   "metadata": {},
   "source": [
    "## 2 Cloud Computing"
   ]
  },
  {
   "cell_type": "markdown",
   "id": "2672306c",
   "metadata": {},
   "source": [
    "### Part 1"
   ]
  },
  {
   "cell_type": "code",
   "execution_count": 16,
   "id": "a44b5d1b",
   "metadata": {},
   "outputs": [],
   "source": [
    "import numpy as np\n",
    "\n",
    "# create the model\n",
    "m_2 = Model()\n",
    "\n",
    "# number of instances\n",
    "n_instances = 9\n",
    "# number of constraints\n",
    "n_constr = 3\n",
    "\n",
    "# CPU\n",
    "cpu = np.array([16, 32, 64, 8, 16, 32, 16, 32, 64])\n",
    "# memory\n",
    "memory = np.array([8, 16, 32, 32, 64, 128, 16, 32, 64])\n",
    "# GPU\n",
    "gpu = np.array([1, 1, 1, 1, 1, 1, 2, 6, 8])\n",
    "resources = np.array([cpu, memory, gpu])\n",
    "# revenue (objective vector)\n",
    "revenue = np.array([7, 12, 24, 22, 44, 88, 30, 90, 120])\n",
    "# upper bounds on resources (CPU, memory, and GPU)\n",
    "B = np.array([512, 1024, 64])\n",
    "\n",
    "# arrival rates\n",
    "arrival_rates = np.array([5.0, 5.0, 1.8, 3.0, 2.6, 1.0, 0.8, 0.4, 0.3])\n",
    "# time horizon\n",
    "T = 5.0\n",
    "# forecast (upper bound on requests accepted over the given time horizon)\n",
    "forecast = T * arrival_rates\n",
    "\n",
    "# add decision variables\n",
    "x = m_2.addVars(n_instances, lb=0, ub=forecast)\n",
    "\n",
    "# set resource constraints\n",
    "resource_constr = {}\n",
    "for c in range(n_constr):\n",
    "    resource_constr[c] = m_2.addConstr(sum(resources[c][i] * x[i] for i in range(n_instances)) <= B[c])\n",
    "\n",
    "# set request constraints based on Poisson arrival process\n",
    "for inst in range(n_instances):\n",
    "    m_2.addConstr(x[inst] <= T * arrival_rates[inst])\n",
    "    \n",
    "# set objective function\n",
    "m_2.setObjective(sum(revenue[i] * x[i] for i in range(n_instances)), GRB.MAXIMIZE)"
   ]
  },
  {
   "cell_type": "markdown",
   "id": "93b525eb",
   "metadata": {},
   "source": [
    "From above,"
   ]
  },
  {
   "cell_type": "markdown",
   "id": "3cd6d50a",
   "metadata": {},
   "source": [
    "#### Part 1a"
   ]
  },
  {
   "cell_type": "markdown",
   "id": "25d562e1",
   "metadata": {},
   "source": [
    "Objective function: sum(revenue[i] * x[i] for i in range(n_instances))"
   ]
  },
  {
   "cell_type": "markdown",
   "id": "8835379d",
   "metadata": {},
   "source": [
    "#### Part 1b"
   ]
  },
  {
   "cell_type": "markdown",
   "id": "1bd3ccb4",
   "metadata": {},
   "source": [
    "Memory usage constraint: sum(resources[c][i] * x[i] for i in range(n_instances)) <= B[c]"
   ]
  },
  {
   "cell_type": "markdown",
   "id": "f09806a4",
   "metadata": {},
   "source": [
    "#### Part 1c"
   ]
  },
  {
   "cell_type": "markdown",
   "id": "89f194c3",
   "metadata": {},
   "source": [
    "Expected number of requests of instance type 5 = lambda* T\n",
    "<BR>Constraint on number of requests of tyoe 5: x[inst] <= T * arrival_rates[inst])\n",
    "<br>(where T=5)"
   ]
  },
  {
   "cell_type": "markdown",
   "id": "17c208bd",
   "metadata": {},
   "source": [
    "#### Part 1d"
   ]
  },
  {
   "cell_type": "markdown",
   "id": "f5c21a49",
   "metadata": {},
   "source": [
    "#add decision variables\n",
    "<br>x = m_2.addVars(n_instances, lb=0, ub=forecast)\n",
    "\n",
    "#set resource constraints\n",
    "<br>resource_constr = {}\n",
    "<br>for c in range(n_constr):\n",
    "    <br>resource_constr[c] = m_2.addConstr(sum(resources[c][i] * x[i] for i in range(n_instances)) <= B[c])\n",
    "\n",
    "#set request constraints based on Poisson arrival process\n",
    "<br>for inst in range(n_instances):\n",
    "    <br>m_2.addConstr(x[inst] <= T * arrival_rates[inst])\n",
    "    \n",
    "#set objective function\n",
    "<br>m_2.setObjective(sum(revenue[i] * x[i] for i in range(n_instances)), GRB.MAXIMIZE)"
   ]
  },
  {
   "cell_type": "markdown",
   "id": "110eb7ce",
   "metadata": {},
   "source": [
    "### Part 2"
   ]
  },
  {
   "cell_type": "code",
   "execution_count": 17,
   "id": "78aa120c",
   "metadata": {
    "scrolled": true
   },
   "outputs": [
    {
     "name": "stdout",
     "output_type": "stream",
     "text": [
      "Gurobi Optimizer version 9.5.0 build v9.5.0rc5 (win64)\n",
      "Thread count: 4 physical cores, 8 logical processors, using up to 8 threads\n",
      "Optimize a model with 12 rows, 9 columns and 36 nonzeros\n",
      "Model fingerprint: 0x04fddfd4\n",
      "Coefficient statistics:\n",
      "  Matrix range     [1e+00, 1e+02]\n",
      "  Objective range  [7e+00, 1e+02]\n",
      "  Bounds range     [2e+00, 3e+01]\n",
      "  RHS range        [2e+00, 1e+03]\n",
      "Presolve removed 9 rows and 1 columns\n",
      "Presolve time: 0.01s\n",
      "Presolved: 3 rows, 8 columns, 24 nonzeros\n",
      "\n",
      "Iteration    Objective       Primal Inf.    Dual Inf.      Time\n",
      "       0    1.4400000e+03   7.200000e+01   0.000000e+00      0s\n",
      "       3    1.0394286e+03   0.000000e+00   0.000000e+00      0s\n",
      "\n",
      "Solved in 3 iterations and 0.02 seconds (0.00 work units)\n",
      "Optimal objective  1.039428571e+03\n"
     ]
    }
   ],
   "source": [
    "# update the model\n",
    "m_2.update()\n",
    "# solve the model\n",
    "m_2.optimize()"
   ]
  },
  {
   "cell_type": "markdown",
   "id": "5c0ab637",
   "metadata": {},
   "source": [
    "#### Part 2a"
   ]
  },
  {
   "cell_type": "code",
   "execution_count": 18,
   "id": "ceb1991c",
   "metadata": {},
   "outputs": [
    {
     "name": "stdout",
     "output_type": "stream",
     "text": [
      "Optimal Objective: 1039.4285714285716\n"
     ]
    }
   ],
   "source": [
    "print(f'Optimal Objective: {m_2.objVal}')"
   ]
  },
  {
   "cell_type": "markdown",
   "id": "06dc903a",
   "metadata": {},
   "source": [
    "#### Part 2b"
   ]
  },
  {
   "cell_type": "code",
   "execution_count": 19,
   "id": "92229b24",
   "metadata": {},
   "outputs": [
    {
     "name": "stdout",
     "output_type": "stream",
     "text": [
      "<gurobi.Var C0 (value 6.285714285714286)> 6.285714285714286\n",
      "<gurobi.Var C1 (value 0.0)> 0.0\n",
      "<gurobi.Var C2 (value 0.0)> 0.0\n",
      "<gurobi.Var C3 (value 3.428571428571429)> 3.428571428571429\n",
      "<gurobi.Var C4 (value 0.0)> 0.0\n",
      "<gurobi.Var C5 (value 5.0)> 5.0\n",
      "<gurobi.Var C6 (value 4.0)> 4.0\n",
      "<gurobi.Var C7 (value 2.0)> 2.0\n",
      "<gurobi.Var C8 (value 1.5)> 1.5\n"
     ]
    }
   ],
   "source": [
    "for v in m_2.getVars():\n",
    "    print(v, v.x)"
   ]
  },
  {
   "cell_type": "markdown",
   "id": "251f313e",
   "metadata": {},
   "source": [
    "Thus 6.28 instances of C1 can be accepted"
   ]
  },
  {
   "cell_type": "markdown",
   "id": "ab49a6c7",
   "metadata": {},
   "source": [
    "### Part 3"
   ]
  },
  {
   "cell_type": "markdown",
   "id": "30873b4a",
   "metadata": {},
   "source": [
    "## Function to generate arrival sequences"
   ]
  },
  {
   "cell_type": "code",
   "execution_count": 20,
   "id": "8e1fa173",
   "metadata": {},
   "outputs": [
    {
     "data": {
      "text/plain": [
       "80.71"
      ]
     },
     "execution_count": 20,
     "metadata": {},
     "output_type": "execute_result"
    }
   ],
   "source": [
    "# Preconditions:\n",
    "# nSimulations = integer specifying number of simulations to run\n",
    "# rates = array containing arrival rate (# / day) for each of the instance\n",
    "# types (should be an array with 9 elements)\n",
    "# T = length of horizon in days.\n",
    "\n",
    "def generateArrivalSequences( nSimulations, rates, T ):\n",
    "    total_rate = sum(rates)\n",
    "    nTypes = len(rates)\n",
    "\n",
    "    arrival_sequences_times = []\n",
    "    arrival_sequences_types = [];\n",
    "\n",
    "    for s in range(nSimulations):\n",
    "        single_arrival_sequence_time = [];\n",
    "        single_arrival_sequence_type = [];\n",
    "        t = 0;\n",
    "        while (t < T):\n",
    "            single_time = np.random.exponential(1.0/total_rate)\n",
    "            single_type = np.random.choice(nTypes, p= rates/total_rate )\n",
    "\n",
    "            t += single_time;\n",
    "\n",
    "            if (t < T):\n",
    "                single_arrival_sequence_time.append(t)\n",
    "                single_arrival_sequence_type.append(single_type)\n",
    "            else:\n",
    "                break\n",
    "\n",
    "        arrival_sequences_times.append(np.array(single_arrival_sequence_time))\n",
    "        arrival_sequences_types.append(np.array(single_arrival_sequence_type))\n",
    "    return arrival_sequences_times, arrival_sequences_types\n",
    "\n",
    "\n",
    "\n",
    "# Code to test out above function\n",
    "np.random.seed(1)\n",
    "nSimulations_test = 100\n",
    "rates_test = np.array([5.0, 2.0, 3.0])\n",
    "T_test = 8\n",
    "x, y = generateArrivalSequences(nSimulations_test, rates_test, T_test)\n",
    "\n",
    "# If code above is working correctly, code below should show\n",
    "# value of 80.71:\n",
    "counts = np.array([len(y[i]) for i in range(nSimulations_test)] )\n",
    "counts.mean()"
   ]
  },
  {
   "cell_type": "code",
   "execution_count": 21,
   "id": "f3dad880",
   "metadata": {},
   "outputs": [
    {
     "name": "stdout",
     "output_type": "stream",
     "text": [
      "[0.07414243 0.1246028  0.15928449]\n"
     ]
    }
   ],
   "source": [
    "# Code to test out above function\n",
    "np.random.seed(10)\n",
    "nSimulations_test = 100\n",
    "rates_test = np.array([5.0, 5.0, 1.8, 3.0, 2.6, 1.0, 0.8, 0.4, 0.3])\n",
    "T_test = 5\n",
    "arrival_sequence_times, arrival_sequence_types = generateArrivalSequences(nSimulations_test,\n",
    "                                                                          rates_test, T_test)\n",
    "\n",
    "# confirm values\n",
    "print(arrival_sequence_times[0][:3])"
   ]
  },
  {
   "cell_type": "markdown",
   "id": "de61f38f",
   "metadata": {},
   "source": [
    "#### Part 3a"
   ]
  },
  {
   "cell_type": "code",
   "execution_count": 22,
   "id": "90885be9",
   "metadata": {},
   "outputs": [
    {
     "name": "stdout",
     "output_type": "stream",
     "text": [
      "26.63\n"
     ]
    }
   ],
   "source": [
    "from collections import Counter\n",
    "\n",
    "# each list within the list called arrival_sequence_times is a sequence of instance times\n",
    "# we'll count the times C1 (i.e. 0) is chosen in the sequnece in each list, then take the average\n",
    "\n",
    "# initialize sum to track number of arrivals of instance type C1\n",
    "num_c1 = 0\n",
    "\n",
    "c1 = 0\n",
    "# loop through all sequences\n",
    "for sequence in arrival_sequence_types:\n",
    "    # count number of arrivals of instance type C1 in each sequence\n",
    "    num_c1 += Counter(sequence)[0]\n",
    "\n",
    "# take average across all simulations\n",
    "avg_c1 = num_c1 / nSimulations_test\n",
    "print(avg_c1)"
   ]
  },
  {
   "cell_type": "markdown",
   "id": "995cd5d9",
   "metadata": {},
   "source": [
    "#### Part 3b"
   ]
  },
  {
   "cell_type": "code",
   "execution_count": 23,
   "id": "37a00eed",
   "metadata": {},
   "outputs": [
    {
     "name": "stdout",
     "output_type": "stream",
     "text": [
      "101.0\n"
     ]
    }
   ],
   "source": [
    "# compute average number of instances of all types\n",
    "\n",
    "num_arrivals = 0\n",
    "for sequence in arrival_sequence_types:\n",
    "    \n",
    "    num_arrivals += len(sequence)\n",
    "    \n",
    "avg_all_types = num_arrivals / nSimulations_test\n",
    "print(avg_all_types)"
   ]
  },
  {
   "cell_type": "markdown",
   "id": "dfbd09c1",
   "metadata": {},
   "source": [
    "## Skeleton code for function to run myopic policy "
   ]
  },
  {
   "cell_type": "code",
   "execution_count": 24,
   "id": "2761a1a4",
   "metadata": {},
   "outputs": [],
   "source": [
    "np.random.seed(10)\n",
    "# Preconditions for code below:\n",
    "# nSimulations = number of simulations to run\n",
    "nSimulations = 100\n",
    "# nResources = number of different types of resources\n",
    "nResources = 3\n",
    "# CPU needed for each instance type\n",
    "cpu = np.array([16, 32, 64, 8, 16, 32, 16, 32, 64])\n",
    "# memory needed for each instance type\n",
    "memory = np.array([8, 16, 32, 32, 64, 128, 16, 32, 64])\n",
    "# GPU needed for each instance type\n",
    "gpu = np.array([1, 1, 1, 1, 1, 1, 2, 6, 8])\n",
    "# B = numpy array of initial capacities of the resources (CPU, memory, and GPU)\n",
    "B = [512, 1024, 64]\n",
    "# prices of each instance type\n",
    "price = np.array([7, 12, 24, 22, 44, 88, 30, 90, 120])\n",
    "# initialize rates\n",
    "rates = np.array([5.0, 5.0, 1.8, 3.0, 2.6, 1.0, 0.8, 0.4, 0.3])\n",
    "# set time period\n",
    "T = 5\n",
    "# arrival_sequences_times = array where each entry is arrival time sequence for that\n",
    "# simulation\n",
    "# arrival_sequences_types = array where each entry is sequence of request types for\n",
    "# that simulation\n",
    "arrival_sequence_times, arrival_sequence_types = generateArrivalSequences(nSimulations,\n",
    "                                                                          rates, T)\n",
    "\n",
    "results_myopic_revenue = np.zeros(nSimulations)\n",
    "results_myopic_remaining_capacity = np.zeros((nSimulations, nResources))\n",
    "\n",
    "for s in range(nSimulations):\n",
    "    b = B.copy()\n",
    "    single_revenue = 0.0 # will contain the revenue of this simulation\n",
    "    nArrivals = len(arrival_sequence_times[s])\n",
    "\n",
    "    # Go through the arrivals in sequence\n",
    "    for j in range(nArrivals):\n",
    "        # Obtain the time of the arrival\n",
    "        arrival_time = arrival_sequence_times[s][j]\n",
    "        # obtain type of arrival\n",
    "        i = arrival_sequence_types[s][j]\n",
    "\n",
    "        # Check if there is sufficient capacity for the request\n",
    "        reqs = np.array([cpu[i], memory[i], gpu[i]])\n",
    "        if (reqs <= b).all():\n",
    "            # if there is sufficient capacity, accrue the revenue\n",
    "            single_revenue += price[i]\n",
    "            # and remove the capacity\n",
    "            b -= reqs\n",
    "\n",
    "    # Save the results of this simulation here ...\n",
    "    results_myopic_revenue[s] = single_revenue\n",
    "    results_myopic_remaining_capacity[s,:] = b\n",
    "\n",
    "# Find the average revenue\n",
    "revenue_myopic_mean = results_myopic_revenue.mean()\n",
    "# Find the average remaining quantity of each resource\n",
    "results_myopic_remaining_cap_mean = results_myopic_remaining_capacity.mean(axis=0)\n",
    "cpu_remaining = results_myopic_remaining_cap_mean[0]\n",
    "memory_remaining = results_myopic_remaining_cap_mean[1]\n",
    "gpu_remaining = results_myopic_remaining_cap_mean[2]"
   ]
  },
  {
   "cell_type": "markdown",
   "id": "d59c6cfd",
   "metadata": {},
   "source": [
    "#### Part 3c"
   ]
  },
  {
   "cell_type": "code",
   "execution_count": 25,
   "id": "07a171d0",
   "metadata": {},
   "outputs": [
    {
     "name": "stdout",
     "output_type": "stream",
     "text": [
      "Average revenue: $528.28\n"
     ]
    }
   ],
   "source": [
    "print(f'Average revenue: ${revenue_myopic_mean}')"
   ]
  },
  {
   "cell_type": "markdown",
   "id": "99fac481",
   "metadata": {},
   "source": [
    "#### Part 3d"
   ]
  },
  {
   "cell_type": "code",
   "execution_count": 35,
   "id": "c25f6396",
   "metadata": {},
   "outputs": [
    {
     "name": "stdout",
     "output_type": "stream",
     "text": [
      "Average of CPU remaining= 0.24 GB\n",
      "Average memory remaining= 371.52 GB\n",
      "Average GPU remaining = 37.42 GB\n"
     ]
    }
   ],
   "source": [
    "print(f'Average of CPU remaining= {cpu_remaining} GB')\n",
    "print(f'Average memory remaining= {memory_remaining} GB')\n",
    "print(f'Average GPU remaining = {gpu_remaining} GB')"
   ]
  },
  {
   "cell_type": "markdown",
   "id": "996934be",
   "metadata": {},
   "source": [
    "## Part 4"
   ]
  },
  {
   "cell_type": "markdown",
   "id": "80891454",
   "metadata": {},
   "source": [
    "### Skeleton code for function to run bid-price control policy "
   ]
  },
  {
   "cell_type": "code",
   "execution_count": 27,
   "id": "693cd6e0",
   "metadata": {
    "scrolled": true
   },
   "outputs": [
    {
     "name": "stdout",
     "output_type": "stream",
     "text": [
      "Gurobi Optimizer version 9.5.0 build v9.5.0rc5 (win64)\n",
      "Thread count: 4 physical cores, 8 logical processors, using up to 8 threads\n",
      "Optimize a model with 3 rows, 9 columns and 27 nonzeros\n",
      "Model fingerprint: 0x207d4a09\n",
      "Coefficient statistics:\n",
      "  Matrix range     [1e+00, 1e+02]\n",
      "  Objective range  [7e+00, 1e+02]\n",
      "  Bounds range     [2e+00, 3e+01]\n",
      "  RHS range        [6e+01, 1e+03]\n",
      "Presolve removed 0 rows and 1 columns\n",
      "Presolve time: 0.01s\n",
      "Presolved: 3 rows, 8 columns, 24 nonzeros\n",
      "\n",
      "Iteration    Objective       Primal Inf.    Dual Inf.      Time\n",
      "       0    1.4400000e+03   7.200000e+01   0.000000e+00      0s\n",
      "       3    1.0394286e+03   0.000000e+00   0.000000e+00      0s\n",
      "\n",
      "Solved in 3 iterations and 0.02 seconds (0.00 work units)\n",
      "Optimal objective  1.039428571e+03\n"
     ]
    }
   ],
   "source": [
    "# create the model\n",
    "m_2 = Model()\n",
    "\n",
    "# number of instances\n",
    "n_instances = 9\n",
    "# number of constraints\n",
    "n_constr = 3\n",
    "\n",
    "# CPU\n",
    "cpu = np.array([16, 32, 64, 8, 16, 32, 16, 32, 64])\n",
    "# memory\n",
    "memory = np.array([8, 16, 32, 32, 64, 128, 16, 32, 64])\n",
    "# GPU\n",
    "gpu = np.array([1, 1, 1, 1, 1, 1, 2, 6, 8])\n",
    "resources = np.array([cpu, memory, gpu])\n",
    "# revenue (objective vector)\n",
    "revenue = np.array([7, 12, 24, 22, 44, 88, 30, 90, 120])\n",
    "# upper bounds on resources (CPU, memory, and GPU)\n",
    "B = np.array([512, 1024, 64])\n",
    "\n",
    "# arrival rates\n",
    "arrival_rates = np.array([5.0, 5.0, 1.8, 3.0, 2.6, 1.0, 0.8, 0.4, 0.3])\n",
    "# time horizon\n",
    "T = 5.0\n",
    "# forecast (upper bound on requests accepted over the given time horizon)\n",
    "forecast = T * arrival_rates\n",
    "\n",
    "# add decision variables\n",
    "x = m_2.addVars(n_instances, lb=0, ub=forecast)\n",
    "\n",
    "# set resource constraints\n",
    "resource_constr = {}\n",
    "for c in range(n_constr):\n",
    "    resource_constr[c] = m_2.addConstr(sum(resources[c][i] * x[i] for i in range(n_instances)) <= B[c])\n",
    "    \n",
    "# set objective function\n",
    "m_2.setObjective(sum(revenue[i] * x[i] for i in range(n_instances)), GRB.MAXIMIZE)\n",
    "\n",
    "# update the model\n",
    "m_2.update()\n",
    "# solve the model\n",
    "m_2.optimize()\n",
    "\n",
    "# supress output\n",
    "m_2.Params.outputflag = 0"
   ]
  },
  {
   "cell_type": "markdown",
   "id": "65051f1d",
   "metadata": {},
   "source": [
    "### Bid-price control algorithm"
   ]
  },
  {
   "cell_type": "code",
   "execution_count": 28,
   "id": "767d7cc0",
   "metadata": {},
   "outputs": [],
   "source": [
    "np.random.seed(10)\n",
    "\n",
    "# Preconditions for code below:\n",
    "# nSimulations = number of simulations to run\n",
    "nSimulations = 100\n",
    "# nResources = number of different types of resources (= 3)\n",
    "nResources = 3\n",
    "# set time period\n",
    "T = 5\n",
    "# set number of instances\n",
    "nInstances = 9\n",
    "# set arrival rates\n",
    "arrival_rates = np.array([5.0, 5.0, 1.8, 3.0, 2.6, 1.0, 0.8, 0.4, 0.3])\n",
    "# arrival_sequences_times = array where each entry is arrival time sequence for that\n",
    "# simulation\n",
    "# arrival_sequences_types = array where each entry is sequence of request types for\n",
    "# that simulation\n",
    "arrival_sequence_times, arrival_sequence_types = generateArrivalSequences(nSimulations,\n",
    "                                                                          arrival_rates, T)\n",
    "\n",
    "# define a function bpc() to re-solve the LO each time:\n",
    "def bpc(b, t):\n",
    "    for r in range(nResources):\n",
    "        # Set the RHS of the resource constraint to b[r]\n",
    "        resource_constr[r].rhs = b[r]\n",
    "\n",
    "    for i in range(nInstances):\n",
    "        # Set the RHS of the forecast constraint for each instance\n",
    "        # type to the expected number of requests over the duration\n",
    "        # of the remaining horizon (T - t).\n",
    "        x[i].ub = (T - t) * arrival_rates[i]\n",
    "\n",
    "    # Re-solve the model:\n",
    "    m_2.update()\n",
    "    m_2.optimize()\n",
    "\n",
    "    # Obtain the dual values/shadow prices\n",
    "    dual_val = [resource_constr[c].pi for c in range(nResources)]\n",
    "\n",
    "    # Return the dual values:\n",
    "    return dual_val\n",
    "\n",
    "results_revenue = np.zeros(nSimulations)\n",
    "results_remaining_capacity = np.zeros((nSimulations, nResources))\n",
    "for s in range(nSimulations):\n",
    "    b = B.copy() # Initialize the current capacity\n",
    "    single_revenue = 0.0 # Initialize the revenue garnered in this simulation\n",
    "    nArrivals = len(arrival_sequence_times[s])\n",
    "    for j in range(nArrivals):\n",
    "        # Take the next arrival time and type from the sequence\n",
    "        arrival_time = arrival_sequence_times[s][j]\n",
    "        i = arrival_sequence_types[s][j]\n",
    "\n",
    "        # Check if there is enough capacity\n",
    "        reqs = np.array([cpu[i], memory[i], gpu[i]])\n",
    "        if (reqs <= b).all():\n",
    "            # Re-solve the LO and obtain the dual values\n",
    "            dual_val = bpc(b, arrival_time)\n",
    "\n",
    "            # Check if the revenue is at least the sum of the bid prices:\n",
    "            total_bid_price = sum(dual_val[ell] * resources[ell][i] for ell in range(nResources))\n",
    "            if (revenue[i] >= total_bid_price):\n",
    "                # If there is sufficient capacity, accrue the revenue\n",
    "                single_revenue += revenue[i]\n",
    "                # and remove the capacity.\n",
    "                b -= reqs\n",
    "\n",
    "    # Save the results of this simulation here:\n",
    "    results_revenue[s] = single_revenue\n",
    "    results_remaining_capacity[s,:] = b\n",
    "\n",
    "\n",
    "# Find the average revenue\n",
    "revenue_bid_mean = results_revenue.mean()\n",
    "# Find the average remaining quantity of each resource\n",
    "results_bid_remaining_cap_mean = results_remaining_capacity.mean(axis=0)\n",
    "cpu_bid_remaining = results_bid_remaining_cap_mean[0]\n",
    "memory_bid_remaining = results_bid_remaining_cap_mean[1]\n",
    "gpu_bid_remaining = results_bid_remaining_cap_mean[2]"
   ]
  },
  {
   "cell_type": "markdown",
   "id": "8d76a395",
   "metadata": {},
   "source": [
    "#### Part 4a"
   ]
  },
  {
   "cell_type": "markdown",
   "id": "94a22e70",
   "metadata": {},
   "source": [
    "Opportunity of cost = 16*pi1+64*pi2+pi3"
   ]
  },
  {
   "cell_type": "markdown",
   "id": "f04ef4ed",
   "metadata": {},
   "source": [
    "#### Part 4b"
   ]
  },
  {
   "cell_type": "markdown",
   "id": "011d2284",
   "metadata": {},
   "source": [
    "Expected number of requests of type i = (T-t)*arrival_rates[i]"
   ]
  },
  {
   "cell_type": "markdown",
   "id": "b0b1d6cd",
   "metadata": {},
   "source": [
    "#### Part 4c"
   ]
  },
  {
   "cell_type": "code",
   "execution_count": 29,
   "id": "aaefba40",
   "metadata": {},
   "outputs": [
    {
     "name": "stdout",
     "output_type": "stream",
     "text": [
      "Average revenue: 925.59\n"
     ]
    }
   ],
   "source": [
    "print(f'Average revenue: {revenue_bid_mean}')"
   ]
  },
  {
   "cell_type": "markdown",
   "id": "73089f27",
   "metadata": {},
   "source": [
    "#### Part 4d"
   ]
  },
  {
   "cell_type": "code",
   "execution_count": 34,
   "id": "495543c2",
   "metadata": {},
   "outputs": [
    {
     "name": "stdout",
     "output_type": "stream",
     "text": [
      "Average of CPU remaining= 27.2 GB\n",
      "Average memory remaining= 4.88 GB\n",
      "Average GPU remaining = 20.62 GB\n"
     ]
    }
   ],
   "source": [
    "print(f'Average of CPU remaining= {cpu_bid_remaining} GB')\n",
    "print(f'Average memory remaining= {memory_bid_remaining} GB')\n",
    "print(f'Average GPU remaining = {gpu_bid_remaining} GB')"
   ]
  },
  {
   "cell_type": "code",
   "execution_count": null,
   "id": "ced34a0e",
   "metadata": {},
   "outputs": [],
   "source": []
  }
 ],
 "metadata": {
  "kernelspec": {
   "display_name": "Python 3",
   "language": "python",
   "name": "python3"
  },
  "language_info": {
   "codemirror_mode": {
    "name": "ipython",
    "version": 3
   },
   "file_extension": ".py",
   "mimetype": "text/x-python",
   "name": "python",
   "nbconvert_exporter": "python",
   "pygments_lexer": "ipython3",
   "version": "3.8.8"
  }
 },
 "nbformat": 4,
 "nbformat_minor": 5
}
